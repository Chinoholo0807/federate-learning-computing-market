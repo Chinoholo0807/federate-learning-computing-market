{
 "cells": [
  {
   "cell_type": "code",
   "execution_count": 27,
   "metadata": {},
   "outputs": [],
   "source": [
    "import torch\n",
    "import numpy as np\n",
    "import torchvision\n",
    "from torch.utils.data import DataLoader\n",
    "from torchvision.transforms import transforms"
   ]
  },
  {
   "cell_type": "code",
   "execution_count": 16,
   "metadata": {},
   "outputs": [],
   "source": [
    "batch_size = 10\n",
    "# transformer =transforms.Compose(\n",
    "#     [transforms.ToTensor(),\n",
    "#      transforms.Normalize(mean = (0.5, 0.5, 0.5),std = (0.5, 0.5, 0.5))])\n",
    "trainset = torchvision.datasets.MNIST('./data',train=True,download=True,transform=transforms.ToTensor())\n",
    "testset = torchvision.datasets.MNIST('./data',train=False,download=True,transform=transforms.ToTensor())\n",
    "train_loader = DataLoader(trainset,batch_size=batch_size,shuffle=True,num_workers=2)\n",
    "test_loader = DataLoader(testset,batch_size=batch_size,shuffle=True,num_workers=2)"
   ]
  },
  {
   "cell_type": "code",
   "execution_count": 35,
   "metadata": {},
   "outputs": [
    {
     "name": "stdout",
     "output_type": "stream",
     "text": [
      "<class 'torchvision.datasets.mnist.MNIST'> \n",
      " <class 'torchvision.datasets.mnist.MNIST'> \n",
      " <class 'torch.utils.data.dataloader.DataLoader'> \n",
      " <class 'torch.utils.data.dataloader.DataLoader'>\n",
      "<class 'torch.utils.data.dataloader._MultiProcessingDataLoaderIter'>\n",
      "<class 'torch.Tensor'> <class 'torch.Tensor'>\n",
      "torch.Size([10, 1, 28, 28]) torch.Size([10])\n",
      "train_x(60000, 784),train_y(60000,),test_x(10000, 784),test_y(60000,)\n",
      "before  33.318421449829934\n",
      "after  0.13066062\n"
     ]
    }
   ],
   "source": [
    "print(type(trainset),'\\n',type(testset),'\\n',type(train_loader),'\\n',type(test_loader))\n",
    "train_iter = iter(train_loader)\n",
    "print(type(train_iter))\n",
    "train_x,train_y = train_iter.next()\n",
    "print(type(train_x),type(train_y))\n",
    "print(train_x.shape,train_y.shape)\n",
    "train_data = trainset.data.numpy()\n",
    "train_label = trainset.targets.numpy()\n",
    "test_data = testset.data.numpy()\n",
    "test_label = trainset.targets.numpy()\n",
    "train_data = train_data.reshape(train_data.shape[0],-1)\n",
    "test_data = test_data.reshape(test_data.shape[0],-1)\n",
    "print(f'train_x{train_data.shape},train_y{train_label.shape},test_x{test_data.shape},test_y{test_label.shape}')\n",
    "print('before ',train_data.mean())\n",
    "train_data = train_data.astype(np.float32)\n",
    "train_data = np.multiply(train_data, 1.0 / 255.0)\n",
    "print('after ',train_data.mean())\n"
   ]
  },
  {
   "cell_type": "code",
   "execution_count": 42,
   "metadata": {},
   "outputs": [
    {
     "name": "stdout",
     "output_type": "stream",
     "text": [
      "0.0\n"
     ]
    }
   ],
   "source": [
    "a = np.array([-0.14579831,  0.0507718 , -0.0928348 , -0.15952584,  0.03019532])\n",
    "b = np.array([-0.14579831,  0.0507718 , -0.0928348 , -0.15952584,  0.03019532])\n",
    "import torch.nn.functional as F\n",
    "dist = np.linalg.norm(a-b)\n",
    "print(dist)"
   ]
  }
 ],
 "metadata": {
  "interpreter": {
   "hash": "932b7a23f5efe7e675e22d8246c22a7feb7a1efaaa56db3f91df2e4d4fb15687"
  },
  "kernelspec": {
   "display_name": "Python 3.9.7 ('deeplearning_common')",
   "language": "python",
   "name": "python3"
  },
  "language_info": {
   "codemirror_mode": {
    "name": "ipython",
    "version": 3
   },
   "file_extension": ".py",
   "mimetype": "text/x-python",
   "name": "python",
   "nbconvert_exporter": "python",
   "pygments_lexer": "ipython3",
   "version": "3.9.7"
  },
  "orig_nbformat": 4
 },
 "nbformat": 4,
 "nbformat_minor": 2
}
